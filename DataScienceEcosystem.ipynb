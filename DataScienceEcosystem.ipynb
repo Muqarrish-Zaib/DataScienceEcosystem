{
 "cells": [
  {
   "cell_type": "markdown",
   "id": "4b6a7c1d",
   "metadata": {},
   "source": [
    "# Data Science Tools and Ecosystem"
   ]
  },
  {
   "cell_type": "markdown",
   "id": "dea926b6",
   "metadata": {},
   "source": [
    "## Introduction\n",
    "In this notebook, Data Science Tools and Ecosystem are summarized."
   ]
  },
  {
   "cell_type": "markdown",
   "id": "ec14ba87",
   "metadata": {},
   "source": [
    "## data science languages\n",
    "Some of the popular languages that Data Scientists use are:\n",
    "1. Python\n",
    "2. R Language\n",
    "3. Java"
   ]
  },
  {
   "cell_type": "markdown",
   "id": "7774c007",
   "metadata": {},
   "source": [
    "## data science libraries\n",
    "Some of the commonly used libraries used by Data Scientists include:\n",
    "* Pandas\n",
    "* Numpy\n",
    "* Matplotlib"
   ]
  },
  {
   "cell_type": "markdown",
   "id": "ed37e6a0",
   "metadata": {},
   "source": [
    "## table of Data Science tools\n",
    "|Data Science Tools|\n",
    ":--:\n",
    "|Jupyter Notebooks|\n",
    "|Google Colab|\n",
    "|R Studio|"
   ]
  },
  {
   "cell_type": "markdown",
   "id": "4aa6ed7c",
   "metadata": {},
   "source": [
    "## introducing arithmetic expression examples\n",
    "### Below are a few examples of evaluating arithmetic expressions in Python"
   ]
  },
  {
   "cell_type": "markdown",
   "id": "ae910d97",
   "metadata": {},
   "source": [
    "## multiply and add numbers"
   ]
  },
  {
   "cell_type": "code",
   "execution_count": 1,
   "id": "5c06c01e",
   "metadata": {},
   "outputs": [
    {
     "data": {
      "text/plain": [
       "17"
      ]
     },
     "execution_count": 1,
     "metadata": {},
     "output_type": "execute_result"
    }
   ],
   "source": [
    "# This a simple arithmetic expression to mutiply then add integers.\n",
    "(3*4)+5"
   ]
  },
  {
   "cell_type": "markdown",
   "id": "4928916d",
   "metadata": {},
   "source": [
    "## convert minutes to hours"
   ]
  },
  {
   "cell_type": "code",
   "execution_count": 4,
   "id": "51f2600a",
   "metadata": {},
   "outputs": [
    {
     "data": {
      "text/plain": [
       "3.3333333333333335"
      ]
     },
     "execution_count": 4,
     "metadata": {},
     "output_type": "execute_result"
    }
   ],
   "source": [
    "# This will convert 200 minutes to hours by diving by 60\n",
    "200/60"
   ]
  },
  {
   "cell_type": "markdown",
   "id": "f859efa8",
   "metadata": {},
   "source": [
    "## list Objectives"
   ]
  },
  {
   "cell_type": "markdown",
   "id": "dfd3616c",
   "metadata": {},
   "source": [
    "**Objectives:**\n",
    "Here are some objectives we learn in this course \n",
    "* Learn any language\n",
    "* Exploratory Data Analysis\n",
    "* Model Building"
   ]
  },
  {
   "cell_type": "markdown",
   "id": "aa88c386",
   "metadata": {},
   "source": [
    "## indicate the Author's name"
   ]
  },
  {
   "cell_type": "markdown",
   "id": "e03739d1",
   "metadata": {},
   "source": [
    "### Author \n",
    "Muqarrish Zaib"
   ]
  },
  {
   "cell_type": "code",
   "execution_count": null,
   "id": "ee34b7bc",
   "metadata": {},
   "outputs": [],
   "source": []
  }
 ],
 "metadata": {
  "kernelspec": {
   "display_name": "Python 3",
   "language": "python",
   "name": "python3"
  },
  "language_info": {
   "codemirror_mode": {
    "name": "ipython",
    "version": 3
   },
   "file_extension": ".py",
   "mimetype": "text/x-python",
   "name": "python",
   "nbconvert_exporter": "python",
   "pygments_lexer": "ipython3",
   "version": "3.8.8"
  }
 },
 "nbformat": 4,
 "nbformat_minor": 5
}
